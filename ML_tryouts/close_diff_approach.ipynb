{
 "cells": [
  {
   "cell_type": "code",
   "execution_count": 1,
   "metadata": {},
   "outputs": [],
   "source": [
    "import pandas as pd\n",
    "import numpy as np\n",
    "import matplotlib.pyplot as plt"
   ]
  },
  {
   "cell_type": "code",
   "execution_count": 2,
   "metadata": {},
   "outputs": [],
   "source": [
    "import yfinance as yf"
   ]
  },
  {
   "cell_type": "code",
   "execution_count": 15,
   "metadata": {},
   "outputs": [],
   "source": [
    "start = '2021-01-01'\n",
    "end = '2022-09-15'"
   ]
  },
  {
   "cell_type": "code",
   "execution_count": 16,
   "metadata": {},
   "outputs": [
    {
     "name": "stdout",
     "output_type": "stream",
     "text": [
      "[*********************100%***********************]  1 of 1 completed\n"
     ]
    }
   ],
   "source": [
    "tsla = yf.download('TSLA', start, end, interval = '1h')"
   ]
  },
  {
   "cell_type": "code",
   "execution_count": 17,
   "metadata": {},
   "outputs": [
    {
     "data": {
      "text/html": [
       "<div>\n",
       "<style scoped>\n",
       "    .dataframe tbody tr th:only-of-type {\n",
       "        vertical-align: middle;\n",
       "    }\n",
       "\n",
       "    .dataframe tbody tr th {\n",
       "        vertical-align: top;\n",
       "    }\n",
       "\n",
       "    .dataframe thead th {\n",
       "        text-align: right;\n",
       "    }\n",
       "</style>\n",
       "<table border=\"1\" class=\"dataframe\">\n",
       "  <thead>\n",
       "    <tr style=\"text-align: right;\">\n",
       "      <th></th>\n",
       "      <th>Open</th>\n",
       "      <th>High</th>\n",
       "      <th>Low</th>\n",
       "      <th>Close</th>\n",
       "      <th>Adj Close</th>\n",
       "      <th>Volume</th>\n",
       "    </tr>\n",
       "  </thead>\n",
       "  <tbody>\n",
       "    <tr>\n",
       "      <th>2021-01-04 09:30:00-05:00</th>\n",
       "      <td>239.550003</td>\n",
       "      <td>247.666672</td>\n",
       "      <td>239.063339</td>\n",
       "      <td>246.676682</td>\n",
       "      <td>246.676682</td>\n",
       "      <td>16179436</td>\n",
       "    </tr>\n",
       "    <tr>\n",
       "      <th>2021-01-04 10:30:00-05:00</th>\n",
       "      <td>246.666672</td>\n",
       "      <td>248.163315</td>\n",
       "      <td>242.753342</td>\n",
       "      <td>245.206665</td>\n",
       "      <td>245.206665</td>\n",
       "      <td>8507263</td>\n",
       "    </tr>\n",
       "    <tr>\n",
       "      <th>2021-01-04 11:30:00-05:00</th>\n",
       "      <td>245.150009</td>\n",
       "      <td>245.250000</td>\n",
       "      <td>239.343338</td>\n",
       "      <td>241.203323</td>\n",
       "      <td>241.203323</td>\n",
       "      <td>7001655</td>\n",
       "    </tr>\n",
       "    <tr>\n",
       "      <th>2021-01-04 12:30:00-05:00</th>\n",
       "      <td>241.253342</td>\n",
       "      <td>243.996658</td>\n",
       "      <td>239.966675</td>\n",
       "      <td>243.721664</td>\n",
       "      <td>243.721664</td>\n",
       "      <td>4484030</td>\n",
       "    </tr>\n",
       "    <tr>\n",
       "      <th>2021-01-04 13:30:00-05:00</th>\n",
       "      <td>243.703323</td>\n",
       "      <td>245.496826</td>\n",
       "      <td>242.083374</td>\n",
       "      <td>242.489990</td>\n",
       "      <td>242.489990</td>\n",
       "      <td>3906976</td>\n",
       "    </tr>\n",
       "    <tr>\n",
       "      <th>...</th>\n",
       "      <td>...</td>\n",
       "      <td>...</td>\n",
       "      <td>...</td>\n",
       "      <td>...</td>\n",
       "      <td>...</td>\n",
       "      <td>...</td>\n",
       "    </tr>\n",
       "    <tr>\n",
       "      <th>2022-09-14 11:30:00-04:00</th>\n",
       "      <td>302.980011</td>\n",
       "      <td>306.000000</td>\n",
       "      <td>302.570007</td>\n",
       "      <td>304.894989</td>\n",
       "      <td>304.894989</td>\n",
       "      <td>9704178</td>\n",
       "    </tr>\n",
       "    <tr>\n",
       "      <th>2022-09-14 12:30:00-04:00</th>\n",
       "      <td>304.910004</td>\n",
       "      <td>305.363403</td>\n",
       "      <td>302.369995</td>\n",
       "      <td>303.054993</td>\n",
       "      <td>303.054993</td>\n",
       "      <td>5573392</td>\n",
       "    </tr>\n",
       "    <tr>\n",
       "      <th>2022-09-14 13:30:00-04:00</th>\n",
       "      <td>303.040009</td>\n",
       "      <td>303.309998</td>\n",
       "      <td>298.779999</td>\n",
       "      <td>300.109985</td>\n",
       "      <td>300.109985</td>\n",
       "      <td>6397706</td>\n",
       "    </tr>\n",
       "    <tr>\n",
       "      <th>2022-09-14 14:30:00-04:00</th>\n",
       "      <td>300.109985</td>\n",
       "      <td>302.045197</td>\n",
       "      <td>298.715515</td>\n",
       "      <td>299.920013</td>\n",
       "      <td>299.920013</td>\n",
       "      <td>8052707</td>\n",
       "    </tr>\n",
       "    <tr>\n",
       "      <th>2022-09-14 15:30:00-04:00</th>\n",
       "      <td>299.869995</td>\n",
       "      <td>303.000000</td>\n",
       "      <td>298.809998</td>\n",
       "      <td>302.690002</td>\n",
       "      <td>302.690002</td>\n",
       "      <td>5075201</td>\n",
       "    </tr>\n",
       "  </tbody>\n",
       "</table>\n",
       "<p>2993 rows × 6 columns</p>\n",
       "</div>"
      ],
      "text/plain": [
       "                                 Open        High         Low       Close  \\\n",
       "2021-01-04 09:30:00-05:00  239.550003  247.666672  239.063339  246.676682   \n",
       "2021-01-04 10:30:00-05:00  246.666672  248.163315  242.753342  245.206665   \n",
       "2021-01-04 11:30:00-05:00  245.150009  245.250000  239.343338  241.203323   \n",
       "2021-01-04 12:30:00-05:00  241.253342  243.996658  239.966675  243.721664   \n",
       "2021-01-04 13:30:00-05:00  243.703323  245.496826  242.083374  242.489990   \n",
       "...                               ...         ...         ...         ...   \n",
       "2022-09-14 11:30:00-04:00  302.980011  306.000000  302.570007  304.894989   \n",
       "2022-09-14 12:30:00-04:00  304.910004  305.363403  302.369995  303.054993   \n",
       "2022-09-14 13:30:00-04:00  303.040009  303.309998  298.779999  300.109985   \n",
       "2022-09-14 14:30:00-04:00  300.109985  302.045197  298.715515  299.920013   \n",
       "2022-09-14 15:30:00-04:00  299.869995  303.000000  298.809998  302.690002   \n",
       "\n",
       "                            Adj Close    Volume  \n",
       "2021-01-04 09:30:00-05:00  246.676682  16179436  \n",
       "2021-01-04 10:30:00-05:00  245.206665   8507263  \n",
       "2021-01-04 11:30:00-05:00  241.203323   7001655  \n",
       "2021-01-04 12:30:00-05:00  243.721664   4484030  \n",
       "2021-01-04 13:30:00-05:00  242.489990   3906976  \n",
       "...                               ...       ...  \n",
       "2022-09-14 11:30:00-04:00  304.894989   9704178  \n",
       "2022-09-14 12:30:00-04:00  303.054993   5573392  \n",
       "2022-09-14 13:30:00-04:00  300.109985   6397706  \n",
       "2022-09-14 14:30:00-04:00  299.920013   8052707  \n",
       "2022-09-14 15:30:00-04:00  302.690002   5075201  \n",
       "\n",
       "[2993 rows x 6 columns]"
      ]
     },
     "execution_count": 17,
     "metadata": {},
     "output_type": "execute_result"
    }
   ],
   "source": [
    "tsla"
   ]
  },
  {
   "cell_type": "code",
   "execution_count": 18,
   "metadata": {},
   "outputs": [],
   "source": [
    "tsla.drop(['Volume'], axis = 1, inplace = True)"
   ]
  },
  {
   "cell_type": "code",
   "execution_count": 20,
   "metadata": {},
   "outputs": [
    {
     "data": {
      "text/html": [
       "<div>\n",
       "<style scoped>\n",
       "    .dataframe tbody tr th:only-of-type {\n",
       "        vertical-align: middle;\n",
       "    }\n",
       "\n",
       "    .dataframe tbody tr th {\n",
       "        vertical-align: top;\n",
       "    }\n",
       "\n",
       "    .dataframe thead th {\n",
       "        text-align: right;\n",
       "    }\n",
       "</style>\n",
       "<table border=\"1\" class=\"dataframe\">\n",
       "  <thead>\n",
       "    <tr style=\"text-align: right;\">\n",
       "      <th></th>\n",
       "      <th>Open</th>\n",
       "      <th>High</th>\n",
       "      <th>Low</th>\n",
       "      <th>Close</th>\n",
       "      <th>Adj Close</th>\n",
       "    </tr>\n",
       "  </thead>\n",
       "  <tbody>\n",
       "    <tr>\n",
       "      <th>2021-01-04 09:30:00-05:00</th>\n",
       "      <td>239.550003</td>\n",
       "      <td>247.666672</td>\n",
       "      <td>239.063339</td>\n",
       "      <td>246.676682</td>\n",
       "      <td>246.676682</td>\n",
       "    </tr>\n",
       "    <tr>\n",
       "      <th>2021-01-04 10:30:00-05:00</th>\n",
       "      <td>246.666672</td>\n",
       "      <td>248.163315</td>\n",
       "      <td>242.753342</td>\n",
       "      <td>245.206665</td>\n",
       "      <td>245.206665</td>\n",
       "    </tr>\n",
       "    <tr>\n",
       "      <th>2021-01-04 11:30:00-05:00</th>\n",
       "      <td>245.150009</td>\n",
       "      <td>245.250000</td>\n",
       "      <td>239.343338</td>\n",
       "      <td>241.203323</td>\n",
       "      <td>241.203323</td>\n",
       "    </tr>\n",
       "    <tr>\n",
       "      <th>2021-01-04 12:30:00-05:00</th>\n",
       "      <td>241.253342</td>\n",
       "      <td>243.996658</td>\n",
       "      <td>239.966675</td>\n",
       "      <td>243.721664</td>\n",
       "      <td>243.721664</td>\n",
       "    </tr>\n",
       "    <tr>\n",
       "      <th>2021-01-04 13:30:00-05:00</th>\n",
       "      <td>243.703323</td>\n",
       "      <td>245.496826</td>\n",
       "      <td>242.083374</td>\n",
       "      <td>242.489990</td>\n",
       "      <td>242.489990</td>\n",
       "    </tr>\n",
       "    <tr>\n",
       "      <th>...</th>\n",
       "      <td>...</td>\n",
       "      <td>...</td>\n",
       "      <td>...</td>\n",
       "      <td>...</td>\n",
       "      <td>...</td>\n",
       "    </tr>\n",
       "    <tr>\n",
       "      <th>2022-09-14 11:30:00-04:00</th>\n",
       "      <td>302.980011</td>\n",
       "      <td>306.000000</td>\n",
       "      <td>302.570007</td>\n",
       "      <td>304.894989</td>\n",
       "      <td>304.894989</td>\n",
       "    </tr>\n",
       "    <tr>\n",
       "      <th>2022-09-14 12:30:00-04:00</th>\n",
       "      <td>304.910004</td>\n",
       "      <td>305.363403</td>\n",
       "      <td>302.369995</td>\n",
       "      <td>303.054993</td>\n",
       "      <td>303.054993</td>\n",
       "    </tr>\n",
       "    <tr>\n",
       "      <th>2022-09-14 13:30:00-04:00</th>\n",
       "      <td>303.040009</td>\n",
       "      <td>303.309998</td>\n",
       "      <td>298.779999</td>\n",
       "      <td>300.109985</td>\n",
       "      <td>300.109985</td>\n",
       "    </tr>\n",
       "    <tr>\n",
       "      <th>2022-09-14 14:30:00-04:00</th>\n",
       "      <td>300.109985</td>\n",
       "      <td>302.045197</td>\n",
       "      <td>298.715515</td>\n",
       "      <td>299.920013</td>\n",
       "      <td>299.920013</td>\n",
       "    </tr>\n",
       "    <tr>\n",
       "      <th>2022-09-14 15:30:00-04:00</th>\n",
       "      <td>299.869995</td>\n",
       "      <td>303.000000</td>\n",
       "      <td>298.809998</td>\n",
       "      <td>302.690002</td>\n",
       "      <td>302.690002</td>\n",
       "    </tr>\n",
       "  </tbody>\n",
       "</table>\n",
       "<p>2993 rows × 5 columns</p>\n",
       "</div>"
      ],
      "text/plain": [
       "                                 Open        High         Low       Close  \\\n",
       "2021-01-04 09:30:00-05:00  239.550003  247.666672  239.063339  246.676682   \n",
       "2021-01-04 10:30:00-05:00  246.666672  248.163315  242.753342  245.206665   \n",
       "2021-01-04 11:30:00-05:00  245.150009  245.250000  239.343338  241.203323   \n",
       "2021-01-04 12:30:00-05:00  241.253342  243.996658  239.966675  243.721664   \n",
       "2021-01-04 13:30:00-05:00  243.703323  245.496826  242.083374  242.489990   \n",
       "...                               ...         ...         ...         ...   \n",
       "2022-09-14 11:30:00-04:00  302.980011  306.000000  302.570007  304.894989   \n",
       "2022-09-14 12:30:00-04:00  304.910004  305.363403  302.369995  303.054993   \n",
       "2022-09-14 13:30:00-04:00  303.040009  303.309998  298.779999  300.109985   \n",
       "2022-09-14 14:30:00-04:00  300.109985  302.045197  298.715515  299.920013   \n",
       "2022-09-14 15:30:00-04:00  299.869995  303.000000  298.809998  302.690002   \n",
       "\n",
       "                            Adj Close  \n",
       "2021-01-04 09:30:00-05:00  246.676682  \n",
       "2021-01-04 10:30:00-05:00  245.206665  \n",
       "2021-01-04 11:30:00-05:00  241.203323  \n",
       "2021-01-04 12:30:00-05:00  243.721664  \n",
       "2021-01-04 13:30:00-05:00  242.489990  \n",
       "...                               ...  \n",
       "2022-09-14 11:30:00-04:00  304.894989  \n",
       "2022-09-14 12:30:00-04:00  303.054993  \n",
       "2022-09-14 13:30:00-04:00  300.109985  \n",
       "2022-09-14 14:30:00-04:00  299.920013  \n",
       "2022-09-14 15:30:00-04:00  302.690002  \n",
       "\n",
       "[2993 rows x 5 columns]"
      ]
     },
     "execution_count": 20,
     "metadata": {},
     "output_type": "execute_result"
    }
   ],
   "source": [
    "tsla"
   ]
  },
  {
   "cell_type": "code",
   "execution_count": 23,
   "metadata": {},
   "outputs": [
    {
     "data": {
      "text/plain": [
       "<AxesSubplot:>"
      ]
     },
     "execution_count": 23,
     "metadata": {},
     "output_type": "execute_result"
    },
    {
     "data": {
      "image/png": "[encoded data removed]",
      "text/plain": [
       "<Figure size 1440x576 with 1 Axes>"
      ]
     },
     "metadata": {
      "needs_background": "light"
     },
     "output_type": "display_data"
    }
   ],
   "source": [
    "plt.figure(figsize = (20, 8))\n",
    "tsla['Adj Close'].plot()"
   ]
  },
  {
   "cell_type": "code",
   "execution_count": 24,
   "metadata": {},
   "outputs": [],
   "source": [
    "tsla.drop(['Close'], axis = 1, inplace = True)"
   ]
  },
  {
   "cell_type": "code",
   "execution_count": 25,
   "metadata": {},
   "outputs": [
    {
     "data": {
      "text/html": [
       "<div>\n",
       "<style scoped>\n",
       "    .dataframe tbody tr th:only-of-type {\n",
       "        vertical-align: middle;\n",
       "    }\n",
       "\n",
       "    .dataframe tbody tr th {\n",
       "        vertical-align: top;\n",
       "    }\n",
       "\n",
       "    .dataframe thead th {\n",
       "        text-align: right;\n",
       "    }\n",
       "</style>\n",
       "<table border=\"1\" class=\"dataframe\">\n",
       "  <thead>\n",
       "    <tr style=\"text-align: right;\">\n",
       "      <th></th>\n",
       "      <th>Open</th>\n",
       "      <th>High</th>\n",
       "      <th>Low</th>\n",
       "      <th>Adj Close</th>\n",
       "    </tr>\n",
       "  </thead>\n",
       "  <tbody>\n",
       "    <tr>\n",
       "      <th>2021-01-04 09:30:00-05:00</th>\n",
       "      <td>239.550003</td>\n",
       "      <td>247.666672</td>\n",
       "      <td>239.063339</td>\n",
       "      <td>246.676682</td>\n",
       "    </tr>\n",
       "    <tr>\n",
       "      <th>2021-01-04 10:30:00-05:00</th>\n",
       "      <td>246.666672</td>\n",
       "      <td>248.163315</td>\n",
       "      <td>242.753342</td>\n",
       "      <td>245.206665</td>\n",
       "    </tr>\n",
       "    <tr>\n",
       "      <th>2021-01-04 11:30:00-05:00</th>\n",
       "      <td>245.150009</td>\n",
       "      <td>245.250000</td>\n",
       "      <td>239.343338</td>\n",
       "      <td>241.203323</td>\n",
       "    </tr>\n",
       "    <tr>\n",
       "      <th>2021-01-04 12:30:00-05:00</th>\n",
       "      <td>241.253342</td>\n",
       "      <td>243.996658</td>\n",
       "      <td>239.966675</td>\n",
       "      <td>243.721664</td>\n",
       "    </tr>\n",
       "    <tr>\n",
       "      <th>2021-01-04 13:30:00-05:00</th>\n",
       "      <td>243.703323</td>\n",
       "      <td>245.496826</td>\n",
       "      <td>242.083374</td>\n",
       "      <td>242.489990</td>\n",
       "    </tr>\n",
       "    <tr>\n",
       "      <th>...</th>\n",
       "      <td>...</td>\n",
       "      <td>...</td>\n",
       "      <td>...</td>\n",
       "      <td>...</td>\n",
       "    </tr>\n",
       "    <tr>\n",
       "      <th>2022-09-14 11:30:00-04:00</th>\n",
       "      <td>302.980011</td>\n",
       "      <td>306.000000</td>\n",
       "      <td>302.570007</td>\n",
       "      <td>304.894989</td>\n",
       "    </tr>\n",
       "    <tr>\n",
       "      <th>2022-09-14 12:30:00-04:00</th>\n",
       "      <td>304.910004</td>\n",
       "      <td>305.363403</td>\n",
       "      <td>302.369995</td>\n",
       "      <td>303.054993</td>\n",
       "    </tr>\n",
       "    <tr>\n",
       "      <th>2022-09-14 13:30:00-04:00</th>\n",
       "      <td>303.040009</td>\n",
       "      <td>303.309998</td>\n",
       "      <td>298.779999</td>\n",
       "      <td>300.109985</td>\n",
       "    </tr>\n",
       "    <tr>\n",
       "      <th>2022-09-14 14:30:00-04:00</th>\n",
       "      <td>300.109985</td>\n",
       "      <td>302.045197</td>\n",
       "      <td>298.715515</td>\n",
       "      <td>299.920013</td>\n",
       "    </tr>\n",
       "    <tr>\n",
       "      <th>2022-09-14 15:30:00-04:00</th>\n",
       "      <td>299.869995</td>\n",
       "      <td>303.000000</td>\n",
       "      <td>298.809998</td>\n",
       "      <td>302.690002</td>\n",
       "    </tr>\n",
       "  </tbody>\n",
       "</table>\n",
       "<p>2993 rows × 4 columns</p>\n",
       "</div>"
      ],
      "text/plain": [
       "                                 Open        High         Low   Adj Close\n",
       "2021-01-04 09:30:00-05:00  239.550003  247.666672  239.063339  246.676682\n",
       "2021-01-04 10:30:00-05:00  246.666672  248.163315  242.753342  245.206665\n",
       "2021-01-04 11:30:00-05:00  245.150009  245.250000  239.343338  241.203323\n",
       "2021-01-04 12:30:00-05:00  241.253342  243.996658  239.966675  243.721664\n",
       "2021-01-04 13:30:00-05:00  243.703323  245.496826  242.083374  242.489990\n",
       "...                               ...         ...         ...         ...\n",
       "2022-09-14 11:30:00-04:00  302.980011  306.000000  302.570007  304.894989\n",
       "2022-09-14 12:30:00-04:00  304.910004  305.363403  302.369995  303.054993\n",
       "2022-09-14 13:30:00-04:00  303.040009  303.309998  298.779999  300.109985\n",
       "2022-09-14 14:30:00-04:00  300.109985  302.045197  298.715515  299.920013\n",
       "2022-09-14 15:30:00-04:00  299.869995  303.000000  298.809998  302.690002\n",
       "\n",
       "[2993 rows x 4 columns]"
      ]
     },
     "execution_count": 25,
     "metadata": {},
     "output_type": "execute_result"
    }
   ],
   "source": [
    "tsla"
   ]
  },
  {
   "cell_type": "code",
   "execution_count": 34,
   "metadata": {},
   "outputs": [],
   "source": [
    "adj_close = tsla['Adj Close']"
   ]
  },
  {
   "cell_type": "code",
   "execution_count": 35,
   "metadata": {},
   "outputs": [],
   "source": [
    "adj_close_shifted = adj_close.shift(-1).fillna(0)"
   ]
  },
  {
   "cell_type": "code",
   "execution_count": 36,
   "metadata": {},
   "outputs": [
    {
     "data": {
      "text/plain": [
       "2021-01-04 09:30:00-05:00    245.206665\n",
       "2021-01-04 10:30:00-05:00    241.203323\n",
       "2021-01-04 11:30:00-05:00    243.721664\n",
       "2021-01-04 12:30:00-05:00    242.489990\n",
       "2021-01-04 13:30:00-05:00    243.597107\n",
       "                                ...    \n",
       "2022-09-14 11:30:00-04:00    303.054993\n",
       "2022-09-14 12:30:00-04:00    300.109985\n",
       "2022-09-14 13:30:00-04:00    299.920013\n",
       "2022-09-14 14:30:00-04:00    302.690002\n",
       "2022-09-14 15:30:00-04:00      0.000000\n",
       "Name: Adj Close, Length: 2993, dtype: float64"
      ]
     },
     "execution_count": 36,
     "metadata": {},
     "output_type": "execute_result"
    }
   ],
   "source": [
    "adj_close_shifted"
   ]
  },
  {
   "cell_type": "code",
   "execution_count": 83,
   "metadata": {},
   "outputs": [],
   "source": [
    "tsla['Close_diff'] =  adj_close_shifted - tsla['Adj Close']"
   ]
  },
  {
   "cell_type": "code",
   "execution_count": 84,
   "metadata": {},
   "outputs": [
    {
     "data": {
      "text/html": [
       "<div>\n",
       "<style scoped>\n",
       "    .dataframe tbody tr th:only-of-type {\n",
       "        vertical-align: middle;\n",
       "    }\n",
       "\n",
       "    .dataframe tbody tr th {\n",
       "        vertical-align: top;\n",
       "    }\n",
       "\n",
       "    .dataframe thead th {\n",
       "        text-align: right;\n",
       "    }\n",
       "</style>\n",
       "<table border=\"1\" class=\"dataframe\">\n",
       "  <thead>\n",
       "    <tr style=\"text-align: right;\">\n",
       "      <th></th>\n",
       "      <th>Open</th>\n",
       "      <th>High</th>\n",
       "      <th>Low</th>\n",
       "      <th>Adj Close</th>\n",
       "      <th>Close_diff</th>\n",
       "      <th>Change</th>\n",
       "    </tr>\n",
       "  </thead>\n",
       "  <tbody>\n",
       "    <tr>\n",
       "      <th>2021-01-04 09:30:00-05:00</th>\n",
       "      <td>239.550003</td>\n",
       "      <td>247.666672</td>\n",
       "      <td>239.063339</td>\n",
       "      <td>246.676682</td>\n",
       "      <td>-1.470016</td>\n",
       "      <td>1</td>\n",
       "    </tr>\n",
       "    <tr>\n",
       "      <th>2021-01-04 10:30:00-05:00</th>\n",
       "      <td>246.666672</td>\n",
       "      <td>248.163315</td>\n",
       "      <td>242.753342</td>\n",
       "      <td>245.206665</td>\n",
       "      <td>-4.003342</td>\n",
       "      <td>1</td>\n",
       "    </tr>\n",
       "    <tr>\n",
       "      <th>2021-01-04 11:30:00-05:00</th>\n",
       "      <td>245.150009</td>\n",
       "      <td>245.250000</td>\n",
       "      <td>239.343338</td>\n",
       "      <td>241.203323</td>\n",
       "      <td>2.518341</td>\n",
       "      <td>0</td>\n",
       "    </tr>\n",
       "    <tr>\n",
       "      <th>2021-01-04 12:30:00-05:00</th>\n",
       "      <td>241.253342</td>\n",
       "      <td>243.996658</td>\n",
       "      <td>239.966675</td>\n",
       "      <td>243.721664</td>\n",
       "      <td>-1.231674</td>\n",
       "      <td>1</td>\n",
       "    </tr>\n",
       "    <tr>\n",
       "      <th>2021-01-04 13:30:00-05:00</th>\n",
       "      <td>243.703323</td>\n",
       "      <td>245.496826</td>\n",
       "      <td>242.083374</td>\n",
       "      <td>242.489990</td>\n",
       "      <td>1.107117</td>\n",
       "      <td>0</td>\n",
       "    </tr>\n",
       "    <tr>\n",
       "      <th>...</th>\n",
       "      <td>...</td>\n",
       "      <td>...</td>\n",
       "      <td>...</td>\n",
       "      <td>...</td>\n",
       "      <td>...</td>\n",
       "      <td>...</td>\n",
       "    </tr>\n",
       "    <tr>\n",
       "      <th>2022-09-14 11:30:00-04:00</th>\n",
       "      <td>302.980011</td>\n",
       "      <td>306.000000</td>\n",
       "      <td>302.570007</td>\n",
       "      <td>304.894989</td>\n",
       "      <td>-1.839996</td>\n",
       "      <td>1</td>\n",
       "    </tr>\n",
       "    <tr>\n",
       "      <th>2022-09-14 12:30:00-04:00</th>\n",
       "      <td>304.910004</td>\n",
       "      <td>305.363403</td>\n",
       "      <td>302.369995</td>\n",
       "      <td>303.054993</td>\n",
       "      <td>-2.945007</td>\n",
       "      <td>1</td>\n",
       "    </tr>\n",
       "    <tr>\n",
       "      <th>2022-09-14 13:30:00-04:00</th>\n",
       "      <td>303.040009</td>\n",
       "      <td>303.309998</td>\n",
       "      <td>298.779999</td>\n",
       "      <td>300.109985</td>\n",
       "      <td>-0.189972</td>\n",
       "      <td>1</td>\n",
       "    </tr>\n",
       "    <tr>\n",
       "      <th>2022-09-14 14:30:00-04:00</th>\n",
       "      <td>300.109985</td>\n",
       "      <td>302.045197</td>\n",
       "      <td>298.715515</td>\n",
       "      <td>299.920013</td>\n",
       "      <td>2.769989</td>\n",
       "      <td>0</td>\n",
       "    </tr>\n",
       "    <tr>\n",
       "      <th>2022-09-14 15:30:00-04:00</th>\n",
       "      <td>299.869995</td>\n",
       "      <td>303.000000</td>\n",
       "      <td>298.809998</td>\n",
       "      <td>302.690002</td>\n",
       "      <td>-302.690002</td>\n",
       "      <td>1</td>\n",
       "    </tr>\n",
       "  </tbody>\n",
       "</table>\n",
       "<p>2993 rows × 6 columns</p>\n",
       "</div>"
      ],
      "text/plain": [
       "                                 Open        High         Low   Adj Close  \\\n",
       "2021-01-04 09:30:00-05:00  239.550003  247.666672  239.063339  246.676682   \n",
       "2021-01-04 10:30:00-05:00  246.666672  248.163315  242.753342  245.206665   \n",
       "2021-01-04 11:30:00-05:00  245.150009  245.250000  239.343338  241.203323   \n",
       "2021-01-04 12:30:00-05:00  241.253342  243.996658  239.966675  243.721664   \n",
       "2021-01-04 13:30:00-05:00  243.703323  245.496826  242.083374  242.489990   \n",
       "...                               ...         ...         ...         ...   \n",
       "2022-09-14 11:30:00-04:00  302.980011  306.000000  302.570007  304.894989   \n",
       "2022-09-14 12:30:00-04:00  304.910004  305.363403  302.369995  303.054993   \n",
       "2022-09-14 13:30:00-04:00  303.040009  303.309998  298.779999  300.109985   \n",
       "2022-09-14 14:30:00-04:00  300.109985  302.045197  298.715515  299.920013   \n",
       "2022-09-14 15:30:00-04:00  299.869995  303.000000  298.809998  302.690002   \n",
       "\n",
       "                           Close_diff  Change  \n",
       "2021-01-04 09:30:00-05:00   -1.470016       1  \n",
       "2021-01-04 10:30:00-05:00   -4.003342       1  \n",
       "2021-01-04 11:30:00-05:00    2.518341       0  \n",
       "2021-01-04 12:30:00-05:00   -1.231674       1  \n",
       "2021-01-04 13:30:00-05:00    1.107117       0  \n",
       "...                               ...     ...  \n",
       "2022-09-14 11:30:00-04:00   -1.839996       1  \n",
       "2022-09-14 12:30:00-04:00   -2.945007       1  \n",
       "2022-09-14 13:30:00-04:00   -0.189972       1  \n",
       "2022-09-14 14:30:00-04:00    2.769989       0  \n",
       "2022-09-14 15:30:00-04:00 -302.690002       1  \n",
       "\n",
       "[2993 rows x 6 columns]"
      ]
     },
     "execution_count": 84,
     "metadata": {},
     "output_type": "execute_result"
    }
   ],
   "source": [
    "tsla"
   ]
  },
  {
   "cell_type": "code",
   "execution_count": 85,
   "metadata": {},
   "outputs": [
    {
     "data": {
      "text/plain": [
       "<AxesSubplot:>"
      ]
     },
     "execution_count": 85,
     "metadata": {},
     "output_type": "execute_result"
    },
    {
     "data": {
      "image/png": "[encoded data removed]",
      "text/plain": [
       "<Figure size 1440x720 with 1 Axes>"
      ]
     },
     "metadata": {
      "needs_background": "light"
     },
     "output_type": "display_data"
    }
   ],
   "source": [
    "plt.figure(figsize = (20, 10))\n",
    "tsla['Close_diff'][:-1].plot()"
   ]
  },
  {
   "cell_type": "code",
   "execution_count": 47,
   "metadata": {},
   "outputs": [],
   "source": [
    "X = tsla[['Open', 'High', 'Low', 'Adj Close']].values"
   ]
  },
  {
   "cell_type": "code",
   "execution_count": 48,
   "metadata": {},
   "outputs": [],
   "source": [
    "X = X[:-1, :]"
   ]
  },
  {
   "cell_type": "code",
   "execution_count": 49,
   "metadata": {},
   "outputs": [
    {
     "data": {
      "text/plain": [
       "array([[239.55000305, 247.66667175, 239.06333923, 246.67668152],\n",
       "       [246.66667175, 248.16331482, 242.75334167, 245.20666504],\n",
       "       [245.15000916, 245.25      , 239.34333801, 241.20332336],\n",
       "       ...,\n",
       "       [304.91000366, 305.36340332, 302.36999512, 303.05499268],\n",
       "       [303.04000854, 303.30999756, 298.77999878, 300.10998535],\n",
       "       [300.10998535, 302.04519653, 298.71551514, 299.92001343]])"
      ]
     },
     "execution_count": 49,
     "metadata": {},
     "output_type": "execute_result"
    }
   ],
   "source": [
    "X"
   ]
  },
  {
   "cell_type": "code",
   "execution_count": 41,
   "metadata": {},
   "outputs": [],
   "source": [
    "y = tsla['Close_diff'].values"
   ]
  },
  {
   "cell_type": "code",
   "execution_count": 50,
   "metadata": {},
   "outputs": [],
   "source": [
    "y = y[:-1]"
   ]
  },
  {
   "cell_type": "code",
   "execution_count": 51,
   "metadata": {},
   "outputs": [
    {
     "data": {
      "text/plain": [
       "array([ 1.47001648,  4.00334167, -2.51834106, ...,  2.94500732,\n",
       "        0.18997192, -2.76998901])"
      ]
     },
     "execution_count": 51,
     "metadata": {},
     "output_type": "execute_result"
    }
   ],
   "source": [
    "y"
   ]
  },
  {
   "cell_type": "code",
   "execution_count": 52,
   "metadata": {},
   "outputs": [],
   "source": [
    "from sklearn.linear_model import LinearRegression\n",
    "from sklearn.model_selection import train_test_split"
   ]
  },
  {
   "cell_type": "code",
   "execution_count": 53,
   "metadata": {},
   "outputs": [],
   "source": [
    "X_train, X_test, y_train, y_test = train_test_split(X, y, test_size = 0.25, random_state = 101)"
   ]
  },
  {
   "cell_type": "code",
   "execution_count": 55,
   "metadata": {},
   "outputs": [
    {
     "data": {
      "text/plain": [
       "(2244, 4)"
      ]
     },
     "execution_count": 55,
     "metadata": {},
     "output_type": "execute_result"
    }
   ],
   "source": [
    "X_train.shape"
   ]
  },
  {
   "cell_type": "code",
   "execution_count": 56,
   "metadata": {},
   "outputs": [
    {
     "data": {
      "text/plain": [
       "(748, 4)"
      ]
     },
     "execution_count": 56,
     "metadata": {},
     "output_type": "execute_result"
    }
   ],
   "source": [
    "X_test.shape"
   ]
  },
  {
   "cell_type": "code",
   "execution_count": 57,
   "metadata": {},
   "outputs": [],
   "source": [
    "lr_model = LinearRegression()"
   ]
  },
  {
   "cell_type": "code",
   "execution_count": 60,
   "metadata": {},
   "outputs": [
    {
     "data": {
      "text/plain": [
       "LinearRegression()"
      ]
     },
     "execution_count": 60,
     "metadata": {},
     "output_type": "execute_result"
    }
   ],
   "source": [
    "lr_model.fit(X_train, y_train)"
   ]
  },
  {
   "cell_type": "code",
   "execution_count": 64,
   "metadata": {},
   "outputs": [
    {
     "data": {
      "text/plain": [
       "[<matplotlib.lines.Line2D at 0x7f2d302bff40>]"
      ]
     },
     "execution_count": 64,
     "metadata": {},
     "output_type": "execute_result"
    },
    {
     "data": {
      "image/png": "[encoded data removed]",
      "text/plain": [
       "<Figure size 1440x720 with 1 Axes>"
      ]
     },
     "metadata": {
      "needs_background": "light"
     },
     "output_type": "display_data"
    }
   ],
   "source": [
    "plt.figure(figsize = (20, 10))\n",
    "plt.plot(y_train)\n",
    "plt.plot(lr_model.predict(X_train))"
   ]
  },
  {
   "cell_type": "code",
   "execution_count": 65,
   "metadata": {},
   "outputs": [
    {
     "data": {
      "text/html": [
       "<div>\n",
       "<style scoped>\n",
       "    .dataframe tbody tr th:only-of-type {\n",
       "        vertical-align: middle;\n",
       "    }\n",
       "\n",
       "    .dataframe tbody tr th {\n",
       "        vertical-align: top;\n",
       "    }\n",
       "\n",
       "    .dataframe thead th {\n",
       "        text-align: right;\n",
       "    }\n",
       "</style>\n",
       "<table border=\"1\" class=\"dataframe\">\n",
       "  <thead>\n",
       "    <tr style=\"text-align: right;\">\n",
       "      <th></th>\n",
       "      <th>Open</th>\n",
       "      <th>High</th>\n",
       "      <th>Low</th>\n",
       "      <th>Adj Close</th>\n",
       "      <th>Close_diff</th>\n",
       "    </tr>\n",
       "  </thead>\n",
       "  <tbody>\n",
       "    <tr>\n",
       "      <th>2021-01-04 09:30:00-05:00</th>\n",
       "      <td>239.550003</td>\n",
       "      <td>247.666672</td>\n",
       "      <td>239.063339</td>\n",
       "      <td>246.676682</td>\n",
       "      <td>1.470016</td>\n",
       "    </tr>\n",
       "    <tr>\n",
       "      <th>2021-01-04 10:30:00-05:00</th>\n",
       "      <td>246.666672</td>\n",
       "      <td>248.163315</td>\n",
       "      <td>242.753342</td>\n",
       "      <td>245.206665</td>\n",
       "      <td>4.003342</td>\n",
       "    </tr>\n",
       "    <tr>\n",
       "      <th>2021-01-04 11:30:00-05:00</th>\n",
       "      <td>245.150009</td>\n",
       "      <td>245.250000</td>\n",
       "      <td>239.343338</td>\n",
       "      <td>241.203323</td>\n",
       "      <td>-2.518341</td>\n",
       "    </tr>\n",
       "    <tr>\n",
       "      <th>2021-01-04 12:30:00-05:00</th>\n",
       "      <td>241.253342</td>\n",
       "      <td>243.996658</td>\n",
       "      <td>239.966675</td>\n",
       "      <td>243.721664</td>\n",
       "      <td>1.231674</td>\n",
       "    </tr>\n",
       "    <tr>\n",
       "      <th>2021-01-04 13:30:00-05:00</th>\n",
       "      <td>243.703323</td>\n",
       "      <td>245.496826</td>\n",
       "      <td>242.083374</td>\n",
       "      <td>242.489990</td>\n",
       "      <td>-1.107117</td>\n",
       "    </tr>\n",
       "    <tr>\n",
       "      <th>...</th>\n",
       "      <td>...</td>\n",
       "      <td>...</td>\n",
       "      <td>...</td>\n",
       "      <td>...</td>\n",
       "      <td>...</td>\n",
       "    </tr>\n",
       "    <tr>\n",
       "      <th>2022-09-14 11:30:00-04:00</th>\n",
       "      <td>302.980011</td>\n",
       "      <td>306.000000</td>\n",
       "      <td>302.570007</td>\n",
       "      <td>304.894989</td>\n",
       "      <td>1.839996</td>\n",
       "    </tr>\n",
       "    <tr>\n",
       "      <th>2022-09-14 12:30:00-04:00</th>\n",
       "      <td>304.910004</td>\n",
       "      <td>305.363403</td>\n",
       "      <td>302.369995</td>\n",
       "      <td>303.054993</td>\n",
       "      <td>2.945007</td>\n",
       "    </tr>\n",
       "    <tr>\n",
       "      <th>2022-09-14 13:30:00-04:00</th>\n",
       "      <td>303.040009</td>\n",
       "      <td>303.309998</td>\n",
       "      <td>298.779999</td>\n",
       "      <td>300.109985</td>\n",
       "      <td>0.189972</td>\n",
       "    </tr>\n",
       "    <tr>\n",
       "      <th>2022-09-14 14:30:00-04:00</th>\n",
       "      <td>300.109985</td>\n",
       "      <td>302.045197</td>\n",
       "      <td>298.715515</td>\n",
       "      <td>299.920013</td>\n",
       "      <td>-2.769989</td>\n",
       "    </tr>\n",
       "    <tr>\n",
       "      <th>2022-09-14 15:30:00-04:00</th>\n",
       "      <td>299.869995</td>\n",
       "      <td>303.000000</td>\n",
       "      <td>298.809998</td>\n",
       "      <td>302.690002</td>\n",
       "      <td>302.690002</td>\n",
       "    </tr>\n",
       "  </tbody>\n",
       "</table>\n",
       "<p>2993 rows × 5 columns</p>\n",
       "</div>"
      ],
      "text/plain": [
       "                                 Open        High         Low   Adj Close  \\\n",
       "2021-01-04 09:30:00-05:00  239.550003  247.666672  239.063339  246.676682   \n",
       "2021-01-04 10:30:00-05:00  246.666672  248.163315  242.753342  245.206665   \n",
       "2021-01-04 11:30:00-05:00  245.150009  245.250000  239.343338  241.203323   \n",
       "2021-01-04 12:30:00-05:00  241.253342  243.996658  239.966675  243.721664   \n",
       "2021-01-04 13:30:00-05:00  243.703323  245.496826  242.083374  242.489990   \n",
       "...                               ...         ...         ...         ...   \n",
       "2022-09-14 11:30:00-04:00  302.980011  306.000000  302.570007  304.894989   \n",
       "2022-09-14 12:30:00-04:00  304.910004  305.363403  302.369995  303.054993   \n",
       "2022-09-14 13:30:00-04:00  303.040009  303.309998  298.779999  300.109985   \n",
       "2022-09-14 14:30:00-04:00  300.109985  302.045197  298.715515  299.920013   \n",
       "2022-09-14 15:30:00-04:00  299.869995  303.000000  298.809998  302.690002   \n",
       "\n",
       "                           Close_diff  \n",
       "2021-01-04 09:30:00-05:00    1.470016  \n",
       "2021-01-04 10:30:00-05:00    4.003342  \n",
       "2021-01-04 11:30:00-05:00   -2.518341  \n",
       "2021-01-04 12:30:00-05:00    1.231674  \n",
       "2021-01-04 13:30:00-05:00   -1.107117  \n",
       "...                               ...  \n",
       "2022-09-14 11:30:00-04:00    1.839996  \n",
       "2022-09-14 12:30:00-04:00    2.945007  \n",
       "2022-09-14 13:30:00-04:00    0.189972  \n",
       "2022-09-14 14:30:00-04:00   -2.769989  \n",
       "2022-09-14 15:30:00-04:00  302.690002  \n",
       "\n",
       "[2993 rows x 5 columns]"
      ]
     },
     "execution_count": 65,
     "metadata": {},
     "output_type": "execute_result"
    }
   ],
   "source": [
    "tsla"
   ]
  },
  {
   "cell_type": "code",
   "execution_count": 86,
   "metadata": {},
   "outputs": [],
   "source": [
    "tsla['Change'] = np.where(tsla['Close_diff'] > 0, 1, 0)"
   ]
  },
  {
   "cell_type": "code",
   "execution_count": 87,
   "metadata": {},
   "outputs": [
    {
     "data": {
      "text/html": [
       "<div>\n",
       "<style scoped>\n",
       "    .dataframe tbody tr th:only-of-type {\n",
       "        vertical-align: middle;\n",
       "    }\n",
       "\n",
       "    .dataframe tbody tr th {\n",
       "        vertical-align: top;\n",
       "    }\n",
       "\n",
       "    .dataframe thead th {\n",
       "        text-align: right;\n",
       "    }\n",
       "</style>\n",
       "<table border=\"1\" class=\"dataframe\">\n",
       "  <thead>\n",
       "    <tr style=\"text-align: right;\">\n",
       "      <th></th>\n",
       "      <th>Open</th>\n",
       "      <th>High</th>\n",
       "      <th>Low</th>\n",
       "      <th>Adj Close</th>\n",
       "      <th>Close_diff</th>\n",
       "      <th>Change</th>\n",
       "    </tr>\n",
       "  </thead>\n",
       "  <tbody>\n",
       "    <tr>\n",
       "      <th>2021-01-04 09:30:00-05:00</th>\n",
       "      <td>239.550003</td>\n",
       "      <td>247.666672</td>\n",
       "      <td>239.063339</td>\n",
       "      <td>246.676682</td>\n",
       "      <td>-1.470016</td>\n",
       "      <td>0</td>\n",
       "    </tr>\n",
       "    <tr>\n",
       "      <th>2021-01-04 10:30:00-05:00</th>\n",
       "      <td>246.666672</td>\n",
       "      <td>248.163315</td>\n",
       "      <td>242.753342</td>\n",
       "      <td>245.206665</td>\n",
       "      <td>-4.003342</td>\n",
       "      <td>0</td>\n",
       "    </tr>\n",
       "    <tr>\n",
       "      <th>2021-01-04 11:30:00-05:00</th>\n",
       "      <td>245.150009</td>\n",
       "      <td>245.250000</td>\n",
       "      <td>239.343338</td>\n",
       "      <td>241.203323</td>\n",
       "      <td>2.518341</td>\n",
       "      <td>1</td>\n",
       "    </tr>\n",
       "    <tr>\n",
       "      <th>2021-01-04 12:30:00-05:00</th>\n",
       "      <td>241.253342</td>\n",
       "      <td>243.996658</td>\n",
       "      <td>239.966675</td>\n",
       "      <td>243.721664</td>\n",
       "      <td>-1.231674</td>\n",
       "      <td>0</td>\n",
       "    </tr>\n",
       "    <tr>\n",
       "      <th>2021-01-04 13:30:00-05:00</th>\n",
       "      <td>243.703323</td>\n",
       "      <td>245.496826</td>\n",
       "      <td>242.083374</td>\n",
       "      <td>242.489990</td>\n",
       "      <td>1.107117</td>\n",
       "      <td>1</td>\n",
       "    </tr>\n",
       "    <tr>\n",
       "      <th>...</th>\n",
       "      <td>...</td>\n",
       "      <td>...</td>\n",
       "      <td>...</td>\n",
       "      <td>...</td>\n",
       "      <td>...</td>\n",
       "      <td>...</td>\n",
       "    </tr>\n",
       "    <tr>\n",
       "      <th>2022-09-14 11:30:00-04:00</th>\n",
       "      <td>302.980011</td>\n",
       "      <td>306.000000</td>\n",
       "      <td>302.570007</td>\n",
       "      <td>304.894989</td>\n",
       "      <td>-1.839996</td>\n",
       "      <td>0</td>\n",
       "    </tr>\n",
       "    <tr>\n",
       "      <th>2022-09-14 12:30:00-04:00</th>\n",
       "      <td>304.910004</td>\n",
       "      <td>305.363403</td>\n",
       "      <td>302.369995</td>\n",
       "      <td>303.054993</td>\n",
       "      <td>-2.945007</td>\n",
       "      <td>0</td>\n",
       "    </tr>\n",
       "    <tr>\n",
       "      <th>2022-09-14 13:30:00-04:00</th>\n",
       "      <td>303.040009</td>\n",
       "      <td>303.309998</td>\n",
       "      <td>298.779999</td>\n",
       "      <td>300.109985</td>\n",
       "      <td>-0.189972</td>\n",
       "      <td>0</td>\n",
       "    </tr>\n",
       "    <tr>\n",
       "      <th>2022-09-14 14:30:00-04:00</th>\n",
       "      <td>300.109985</td>\n",
       "      <td>302.045197</td>\n",
       "      <td>298.715515</td>\n",
       "      <td>299.920013</td>\n",
       "      <td>2.769989</td>\n",
       "      <td>1</td>\n",
       "    </tr>\n",
       "    <tr>\n",
       "      <th>2022-09-14 15:30:00-04:00</th>\n",
       "      <td>299.869995</td>\n",
       "      <td>303.000000</td>\n",
       "      <td>298.809998</td>\n",
       "      <td>302.690002</td>\n",
       "      <td>-302.690002</td>\n",
       "      <td>0</td>\n",
       "    </tr>\n",
       "  </tbody>\n",
       "</table>\n",
       "<p>2993 rows × 6 columns</p>\n",
       "</div>"
      ],
      "text/plain": [
       "                                 Open        High         Low   Adj Close  \\\n",
       "2021-01-04 09:30:00-05:00  239.550003  247.666672  239.063339  246.676682   \n",
       "2021-01-04 10:30:00-05:00  246.666672  248.163315  242.753342  245.206665   \n",
       "2021-01-04 11:30:00-05:00  245.150009  245.250000  239.343338  241.203323   \n",
       "2021-01-04 12:30:00-05:00  241.253342  243.996658  239.966675  243.721664   \n",
       "2021-01-04 13:30:00-05:00  243.703323  245.496826  242.083374  242.489990   \n",
       "...                               ...         ...         ...         ...   \n",
       "2022-09-14 11:30:00-04:00  302.980011  306.000000  302.570007  304.894989   \n",
       "2022-09-14 12:30:00-04:00  304.910004  305.363403  302.369995  303.054993   \n",
       "2022-09-14 13:30:00-04:00  303.040009  303.309998  298.779999  300.109985   \n",
       "2022-09-14 14:30:00-04:00  300.109985  302.045197  298.715515  299.920013   \n",
       "2022-09-14 15:30:00-04:00  299.869995  303.000000  298.809998  302.690002   \n",
       "\n",
       "                           Close_diff  Change  \n",
       "2021-01-04 09:30:00-05:00   -1.470016       0  \n",
       "2021-01-04 10:30:00-05:00   -4.003342       0  \n",
       "2021-01-04 11:30:00-05:00    2.518341       1  \n",
       "2021-01-04 12:30:00-05:00   -1.231674       0  \n",
       "2021-01-04 13:30:00-05:00    1.107117       1  \n",
       "...                               ...     ...  \n",
       "2022-09-14 11:30:00-04:00   -1.839996       0  \n",
       "2022-09-14 12:30:00-04:00   -2.945007       0  \n",
       "2022-09-14 13:30:00-04:00   -0.189972       0  \n",
       "2022-09-14 14:30:00-04:00    2.769989       1  \n",
       "2022-09-14 15:30:00-04:00 -302.690002       0  \n",
       "\n",
       "[2993 rows x 6 columns]"
      ]
     },
     "execution_count": 87,
     "metadata": {},
     "output_type": "execute_result"
    }
   ],
   "source": [
    "tsla"
   ]
  },
  {
   "cell_type": "code",
   "execution_count": 68,
   "metadata": {},
   "outputs": [
    {
     "data": {
      "text/html": [
       "<div>\n",
       "<style scoped>\n",
       "    .dataframe tbody tr th:only-of-type {\n",
       "        vertical-align: middle;\n",
       "    }\n",
       "\n",
       "    .dataframe tbody tr th {\n",
       "        vertical-align: top;\n",
       "    }\n",
       "\n",
       "    .dataframe thead th {\n",
       "        text-align: right;\n",
       "    }\n",
       "</style>\n",
       "<table border=\"1\" class=\"dataframe\">\n",
       "  <thead>\n",
       "    <tr style=\"text-align: right;\">\n",
       "      <th></th>\n",
       "      <th>Open</th>\n",
       "      <th>High</th>\n",
       "      <th>Low</th>\n",
       "      <th>Adj Close</th>\n",
       "      <th>Close_diff</th>\n",
       "      <th>Change</th>\n",
       "    </tr>\n",
       "  </thead>\n",
       "  <tbody>\n",
       "    <tr>\n",
       "      <th>2021-01-27 14:30:00-05:00</th>\n",
       "      <td>292.486664</td>\n",
       "      <td>292.790009</td>\n",
       "      <td>286.220001</td>\n",
       "      <td>288.216675</td>\n",
       "      <td>0.0</td>\n",
       "      <td>0</td>\n",
       "    </tr>\n",
       "  </tbody>\n",
       "</table>\n",
       "</div>"
      ],
      "text/plain": [
       "                                 Open        High         Low   Adj Close  \\\n",
       "2021-01-27 14:30:00-05:00  292.486664  292.790009  286.220001  288.216675   \n",
       "\n",
       "                           Close_diff  Change  \n",
       "2021-01-27 14:30:00-05:00         0.0       0  "
      ]
     },
     "execution_count": 68,
     "metadata": {},
     "output_type": "execute_result"
    }
   ],
   "source": [
    "tsla[tsla['Close_diff'] == 0]"
   ]
  },
  {
   "cell_type": "code",
   "execution_count": 69,
   "metadata": {},
   "outputs": [],
   "source": [
    "from xgboost import XGBClassifier"
   ]
  },
  {
   "cell_type": "code",
   "execution_count": 70,
   "metadata": {},
   "outputs": [],
   "source": [
    "xgbc = XGBClassifier()"
   ]
  },
  {
   "cell_type": "code",
   "execution_count": 94,
   "metadata": {},
   "outputs": [],
   "source": [
    "y_classifier = tsla['Change'].fillna(0)[:-1].values"
   ]
  },
  {
   "cell_type": "code",
   "execution_count": 89,
   "metadata": {},
   "outputs": [
    {
     "data": {
      "text/html": [
       "<div>\n",
       "<style scoped>\n",
       "    .dataframe tbody tr th:only-of-type {\n",
       "        vertical-align: middle;\n",
       "    }\n",
       "\n",
       "    .dataframe tbody tr th {\n",
       "        vertical-align: top;\n",
       "    }\n",
       "\n",
       "    .dataframe thead th {\n",
       "        text-align: right;\n",
       "    }\n",
       "</style>\n",
       "<table border=\"1\" class=\"dataframe\">\n",
       "  <thead>\n",
       "    <tr style=\"text-align: right;\">\n",
       "      <th></th>\n",
       "      <th>Open</th>\n",
       "      <th>High</th>\n",
       "      <th>Low</th>\n",
       "      <th>Adj Close</th>\n",
       "      <th>Close_diff</th>\n",
       "      <th>Change</th>\n",
       "    </tr>\n",
       "  </thead>\n",
       "  <tbody>\n",
       "    <tr>\n",
       "      <th>2021-01-04 09:30:00-05:00</th>\n",
       "      <td>239.550003</td>\n",
       "      <td>247.666672</td>\n",
       "      <td>239.063339</td>\n",
       "      <td>246.676682</td>\n",
       "      <td>-1.470016</td>\n",
       "      <td>0</td>\n",
       "    </tr>\n",
       "    <tr>\n",
       "      <th>2021-01-04 10:30:00-05:00</th>\n",
       "      <td>246.666672</td>\n",
       "      <td>248.163315</td>\n",
       "      <td>242.753342</td>\n",
       "      <td>245.206665</td>\n",
       "      <td>-4.003342</td>\n",
       "      <td>0</td>\n",
       "    </tr>\n",
       "    <tr>\n",
       "      <th>2021-01-04 11:30:00-05:00</th>\n",
       "      <td>245.150009</td>\n",
       "      <td>245.250000</td>\n",
       "      <td>239.343338</td>\n",
       "      <td>241.203323</td>\n",
       "      <td>2.518341</td>\n",
       "      <td>1</td>\n",
       "    </tr>\n",
       "    <tr>\n",
       "      <th>2021-01-04 12:30:00-05:00</th>\n",
       "      <td>241.253342</td>\n",
       "      <td>243.996658</td>\n",
       "      <td>239.966675</td>\n",
       "      <td>243.721664</td>\n",
       "      <td>-1.231674</td>\n",
       "      <td>0</td>\n",
       "    </tr>\n",
       "    <tr>\n",
       "      <th>2021-01-04 13:30:00-05:00</th>\n",
       "      <td>243.703323</td>\n",
       "      <td>245.496826</td>\n",
       "      <td>242.083374</td>\n",
       "      <td>242.489990</td>\n",
       "      <td>1.107117</td>\n",
       "      <td>1</td>\n",
       "    </tr>\n",
       "    <tr>\n",
       "      <th>...</th>\n",
       "      <td>...</td>\n",
       "      <td>...</td>\n",
       "      <td>...</td>\n",
       "      <td>...</td>\n",
       "      <td>...</td>\n",
       "      <td>...</td>\n",
       "    </tr>\n",
       "    <tr>\n",
       "      <th>2022-09-14 11:30:00-04:00</th>\n",
       "      <td>302.980011</td>\n",
       "      <td>306.000000</td>\n",
       "      <td>302.570007</td>\n",
       "      <td>304.894989</td>\n",
       "      <td>-1.839996</td>\n",
       "      <td>0</td>\n",
       "    </tr>\n",
       "    <tr>\n",
       "      <th>2022-09-14 12:30:00-04:00</th>\n",
       "      <td>304.910004</td>\n",
       "      <td>305.363403</td>\n",
       "      <td>302.369995</td>\n",
       "      <td>303.054993</td>\n",
       "      <td>-2.945007</td>\n",
       "      <td>0</td>\n",
       "    </tr>\n",
       "    <tr>\n",
       "      <th>2022-09-14 13:30:00-04:00</th>\n",
       "      <td>303.040009</td>\n",
       "      <td>303.309998</td>\n",
       "      <td>298.779999</td>\n",
       "      <td>300.109985</td>\n",
       "      <td>-0.189972</td>\n",
       "      <td>0</td>\n",
       "    </tr>\n",
       "    <tr>\n",
       "      <th>2022-09-14 14:30:00-04:00</th>\n",
       "      <td>300.109985</td>\n",
       "      <td>302.045197</td>\n",
       "      <td>298.715515</td>\n",
       "      <td>299.920013</td>\n",
       "      <td>2.769989</td>\n",
       "      <td>1</td>\n",
       "    </tr>\n",
       "    <tr>\n",
       "      <th>2022-09-14 15:30:00-04:00</th>\n",
       "      <td>299.869995</td>\n",
       "      <td>303.000000</td>\n",
       "      <td>298.809998</td>\n",
       "      <td>302.690002</td>\n",
       "      <td>-302.690002</td>\n",
       "      <td>0</td>\n",
       "    </tr>\n",
       "  </tbody>\n",
       "</table>\n",
       "<p>2993 rows × 6 columns</p>\n",
       "</div>"
      ],
      "text/plain": [
       "                                 Open        High         Low   Adj Close  \\\n",
       "2021-01-04 09:30:00-05:00  239.550003  247.666672  239.063339  246.676682   \n",
       "2021-01-04 10:30:00-05:00  246.666672  248.163315  242.753342  245.206665   \n",
       "2021-01-04 11:30:00-05:00  245.150009  245.250000  239.343338  241.203323   \n",
       "2021-01-04 12:30:00-05:00  241.253342  243.996658  239.966675  243.721664   \n",
       "2021-01-04 13:30:00-05:00  243.703323  245.496826  242.083374  242.489990   \n",
       "...                               ...         ...         ...         ...   \n",
       "2022-09-14 11:30:00-04:00  302.980011  306.000000  302.570007  304.894989   \n",
       "2022-09-14 12:30:00-04:00  304.910004  305.363403  302.369995  303.054993   \n",
       "2022-09-14 13:30:00-04:00  303.040009  303.309998  298.779999  300.109985   \n",
       "2022-09-14 14:30:00-04:00  300.109985  302.045197  298.715515  299.920013   \n",
       "2022-09-14 15:30:00-04:00  299.869995  303.000000  298.809998  302.690002   \n",
       "\n",
       "                           Close_diff  Change  \n",
       "2021-01-04 09:30:00-05:00   -1.470016       0  \n",
       "2021-01-04 10:30:00-05:00   -4.003342       0  \n",
       "2021-01-04 11:30:00-05:00    2.518341       1  \n",
       "2021-01-04 12:30:00-05:00   -1.231674       0  \n",
       "2021-01-04 13:30:00-05:00    1.107117       1  \n",
       "...                               ...     ...  \n",
       "2022-09-14 11:30:00-04:00   -1.839996       0  \n",
       "2022-09-14 12:30:00-04:00   -2.945007       0  \n",
       "2022-09-14 13:30:00-04:00   -0.189972       0  \n",
       "2022-09-14 14:30:00-04:00    2.769989       1  \n",
       "2022-09-14 15:30:00-04:00 -302.690002       0  \n",
       "\n",
       "[2993 rows x 6 columns]"
      ]
     },
     "execution_count": 89,
     "metadata": {},
     "output_type": "execute_result"
    }
   ],
   "source": [
    "tsla"
   ]
  },
  {
   "cell_type": "code",
   "execution_count": 76,
   "metadata": {},
   "outputs": [],
   "source": [
    "X_class = tsla[['Open', 'High', 'Low', 'Adj Close']].values[:-1, :]"
   ]
  },
  {
   "cell_type": "code",
   "execution_count": 99,
   "metadata": {},
   "outputs": [
    {
     "data": {
      "text/plain": [
       "array([[239.55000305, 247.66667175, 239.06333923, 246.67668152],\n",
       "       [246.66667175, 248.16331482, 242.75334167, 245.20666504],\n",
       "       [245.15000916, 245.25      , 239.34333801, 241.20332336],\n",
       "       [241.25334167, 243.99665833, 239.9666748 , 243.72166443],\n",
       "       [243.70332336, 245.49682617, 242.08337402, 242.48999023],\n",
       "       [242.42999268, 244.22666931, 241.42668152, 243.59710693]])"
      ]
     },
     "execution_count": 99,
     "metadata": {},
     "output_type": "execute_result"
    }
   ],
   "source": [
    "X_class[:6]"
   ]
  },
  {
   "cell_type": "code",
   "execution_count": 95,
   "metadata": {},
   "outputs": [],
   "source": [
    "y_class = y_classifier"
   ]
  },
  {
   "cell_type": "code",
   "execution_count": 98,
   "metadata": {},
   "outputs": [
    {
     "data": {
      "text/plain": [
       "array([0, 0, 1, 0, 1])"
      ]
     },
     "execution_count": 98,
     "metadata": {},
     "output_type": "execute_result"
    }
   ],
   "source": [
    "y_class[:5]"
   ]
  },
  {
   "cell_type": "code",
   "execution_count": 100,
   "metadata": {},
   "outputs": [],
   "source": [
    "X_train_class, X_test_class, y_train_class, y_test_class = train_test_split(X_class, y_class)"
   ]
  },
  {
   "cell_type": "code",
   "execution_count": 101,
   "metadata": {},
   "outputs": [
    {
     "name": "stderr",
     "output_type": "stream",
     "text": [
      "/home/nasko/anaconda3/lib/python3.8/site-packages/xgboost/sklearn.py:1224: UserWarning: The use of label encoder in XGBClassifier is deprecated and will be removed in a future release. To remove this warning, do the following: 1) Pass option use_label_encoder=False when constructing XGBClassifier object; and 2) Encode your labels (y) as integers starting with 0, i.e. 0, 1, 2, ..., [num_class - 1].\n",
      "  warnings.warn(label_encoder_deprecation_msg, UserWarning)\n"
     ]
    },
    {
     "name": "stdout",
     "output_type": "stream",
     "text": [
      "[17:54:23] WARNING: ../src/learner.cc:1115: Starting in XGBoost 1.3.0, the default evaluation metric used with the objective 'binary:logistic' was changed from 'error' to 'logloss'. Explicitly set eval_metric if you'd like to restore the old behavior.\n"
     ]
    },
    {
     "data": {
      "text/plain": [
       "XGBClassifier(base_score=0.5, booster='gbtree', colsample_bylevel=1,\n",
       "              colsample_bynode=1, colsample_bytree=1, enable_categorical=False,\n",
       "              gamma=0, gpu_id=-1, importance_type=None,\n",
       "              interaction_constraints='', learning_rate=0.300000012,\n",
       "              max_delta_step=0, max_depth=6, min_child_weight=1, missing=nan,\n",
       "              monotone_constraints='()', n_estimators=100, n_jobs=12,\n",
       "              num_parallel_tree=1, predictor='auto', random_state=0,\n",
       "              reg_alpha=0, reg_lambda=1, scale_pos_weight=1, subsample=1,\n",
       "              tree_method='exact', validate_parameters=1, verbosity=None)"
      ]
     },
     "execution_count": 101,
     "metadata": {},
     "output_type": "execute_result"
    }
   ],
   "source": [
    "xgbc.fit(X_train_class, y_train_class)"
   ]
  },
  {
   "cell_type": "code",
   "execution_count": 102,
   "metadata": {},
   "outputs": [],
   "source": [
    "from sklearn.metrics import accuracy_score, roc_auc_score, confusion_matrix, f1_score"
   ]
  },
  {
   "cell_type": "code",
   "execution_count": 103,
   "metadata": {},
   "outputs": [],
   "source": [
    "y_pred = xgbc.predict(X_test)"
   ]
  },
  {
   "cell_type": "code",
   "execution_count": 105,
   "metadata": {},
   "outputs": [],
   "source": [
    "scores = {'accuracy_score' : accuracy_score(y_test_class, y_pred),\n",
    "          'ROC_AUC' : roc_auc_score(y_test_class, y_pred),\n",
    "          'f1_score' : f1_score(y_test_class, y_pred)}"
   ]
  },
  {
   "cell_type": "code",
   "execution_count": 106,
   "metadata": {},
   "outputs": [
    {
     "data": {
      "text/plain": [
       "{'accuracy_score': 0.4959893048128342,\n",
       " 'ROC_AUC': 0.4971852170176193,\n",
       " 'f1_score': 0.49933598937582996}"
      ]
     },
     "execution_count": 106,
     "metadata": {},
     "output_type": "execute_result"
    }
   ],
   "source": [
    "scores"
   ]
  },
  {
   "cell_type": "code",
   "execution_count": 108,
   "metadata": {},
   "outputs": [
    {
     "data": {
      "text/plain": [
       "array([[183, 207],\n",
       "       [170, 188]])"
      ]
     },
     "execution_count": 108,
     "metadata": {},
     "output_type": "execute_result"
    }
   ],
   "source": [
    "confusion_matrix(y_test_class, y_pred)"
   ]
  },
  {
   "cell_type": "code",
   "execution_count": 109,
   "metadata": {},
   "outputs": [
    {
     "data": {
      "text/html": [
       "<div>\n",
       "<style scoped>\n",
       "    .dataframe tbody tr th:only-of-type {\n",
       "        vertical-align: middle;\n",
       "    }\n",
       "\n",
       "    .dataframe tbody tr th {\n",
       "        vertical-align: top;\n",
       "    }\n",
       "\n",
       "    .dataframe thead th {\n",
       "        text-align: right;\n",
       "    }\n",
       "</style>\n",
       "<table border=\"1\" class=\"dataframe\">\n",
       "  <thead>\n",
       "    <tr style=\"text-align: right;\">\n",
       "      <th></th>\n",
       "      <th>Open</th>\n",
       "      <th>High</th>\n",
       "      <th>Low</th>\n",
       "      <th>Adj Close</th>\n",
       "      <th>Close_diff</th>\n",
       "      <th>Change</th>\n",
       "    </tr>\n",
       "  </thead>\n",
       "  <tbody>\n",
       "    <tr>\n",
       "      <th>2021-01-04 09:30:00-05:00</th>\n",
       "      <td>239.550003</td>\n",
       "      <td>247.666672</td>\n",
       "      <td>239.063339</td>\n",
       "      <td>246.676682</td>\n",
       "      <td>-1.470016</td>\n",
       "      <td>0</td>\n",
       "    </tr>\n",
       "    <tr>\n",
       "      <th>2021-01-04 10:30:00-05:00</th>\n",
       "      <td>246.666672</td>\n",
       "      <td>248.163315</td>\n",
       "      <td>242.753342</td>\n",
       "      <td>245.206665</td>\n",
       "      <td>-4.003342</td>\n",
       "      <td>0</td>\n",
       "    </tr>\n",
       "    <tr>\n",
       "      <th>2021-01-04 11:30:00-05:00</th>\n",
       "      <td>245.150009</td>\n",
       "      <td>245.250000</td>\n",
       "      <td>239.343338</td>\n",
       "      <td>241.203323</td>\n",
       "      <td>2.518341</td>\n",
       "      <td>1</td>\n",
       "    </tr>\n",
       "    <tr>\n",
       "      <th>2021-01-04 12:30:00-05:00</th>\n",
       "      <td>241.253342</td>\n",
       "      <td>243.996658</td>\n",
       "      <td>239.966675</td>\n",
       "      <td>243.721664</td>\n",
       "      <td>-1.231674</td>\n",
       "      <td>0</td>\n",
       "    </tr>\n",
       "    <tr>\n",
       "      <th>2021-01-04 13:30:00-05:00</th>\n",
       "      <td>243.703323</td>\n",
       "      <td>245.496826</td>\n",
       "      <td>242.083374</td>\n",
       "      <td>242.489990</td>\n",
       "      <td>1.107117</td>\n",
       "      <td>1</td>\n",
       "    </tr>\n",
       "    <tr>\n",
       "      <th>...</th>\n",
       "      <td>...</td>\n",
       "      <td>...</td>\n",
       "      <td>...</td>\n",
       "      <td>...</td>\n",
       "      <td>...</td>\n",
       "      <td>...</td>\n",
       "    </tr>\n",
       "    <tr>\n",
       "      <th>2022-09-14 11:30:00-04:00</th>\n",
       "      <td>302.980011</td>\n",
       "      <td>306.000000</td>\n",
       "      <td>302.570007</td>\n",
       "      <td>304.894989</td>\n",
       "      <td>-1.839996</td>\n",
       "      <td>0</td>\n",
       "    </tr>\n",
       "    <tr>\n",
       "      <th>2022-09-14 12:30:00-04:00</th>\n",
       "      <td>304.910004</td>\n",
       "      <td>305.363403</td>\n",
       "      <td>302.369995</td>\n",
       "      <td>303.054993</td>\n",
       "      <td>-2.945007</td>\n",
       "      <td>0</td>\n",
       "    </tr>\n",
       "    <tr>\n",
       "      <th>2022-09-14 13:30:00-04:00</th>\n",
       "      <td>303.040009</td>\n",
       "      <td>303.309998</td>\n",
       "      <td>298.779999</td>\n",
       "      <td>300.109985</td>\n",
       "      <td>-0.189972</td>\n",
       "      <td>0</td>\n",
       "    </tr>\n",
       "    <tr>\n",
       "      <th>2022-09-14 14:30:00-04:00</th>\n",
       "      <td>300.109985</td>\n",
       "      <td>302.045197</td>\n",
       "      <td>298.715515</td>\n",
       "      <td>299.920013</td>\n",
       "      <td>2.769989</td>\n",
       "      <td>1</td>\n",
       "    </tr>\n",
       "    <tr>\n",
       "      <th>2022-09-14 15:30:00-04:00</th>\n",
       "      <td>299.869995</td>\n",
       "      <td>303.000000</td>\n",
       "      <td>298.809998</td>\n",
       "      <td>302.690002</td>\n",
       "      <td>-302.690002</td>\n",
       "      <td>0</td>\n",
       "    </tr>\n",
       "  </tbody>\n",
       "</table>\n",
       "<p>2993 rows × 6 columns</p>\n",
       "</div>"
      ],
      "text/plain": [
       "                                 Open        High         Low   Adj Close  \\\n",
       "2021-01-04 09:30:00-05:00  239.550003  247.666672  239.063339  246.676682   \n",
       "2021-01-04 10:30:00-05:00  246.666672  248.163315  242.753342  245.206665   \n",
       "2021-01-04 11:30:00-05:00  245.150009  245.250000  239.343338  241.203323   \n",
       "2021-01-04 12:30:00-05:00  241.253342  243.996658  239.966675  243.721664   \n",
       "2021-01-04 13:30:00-05:00  243.703323  245.496826  242.083374  242.489990   \n",
       "...                               ...         ...         ...         ...   \n",
       "2022-09-14 11:30:00-04:00  302.980011  306.000000  302.570007  304.894989   \n",
       "2022-09-14 12:30:00-04:00  304.910004  305.363403  302.369995  303.054993   \n",
       "2022-09-14 13:30:00-04:00  303.040009  303.309998  298.779999  300.109985   \n",
       "2022-09-14 14:30:00-04:00  300.109985  302.045197  298.715515  299.920013   \n",
       "2022-09-14 15:30:00-04:00  299.869995  303.000000  298.809998  302.690002   \n",
       "\n",
       "                           Close_diff  Change  \n",
       "2021-01-04 09:30:00-05:00   -1.470016       0  \n",
       "2021-01-04 10:30:00-05:00   -4.003342       0  \n",
       "2021-01-04 11:30:00-05:00    2.518341       1  \n",
       "2021-01-04 12:30:00-05:00   -1.231674       0  \n",
       "2021-01-04 13:30:00-05:00    1.107117       1  \n",
       "...                               ...     ...  \n",
       "2022-09-14 11:30:00-04:00   -1.839996       0  \n",
       "2022-09-14 12:30:00-04:00   -2.945007       0  \n",
       "2022-09-14 13:30:00-04:00   -0.189972       0  \n",
       "2022-09-14 14:30:00-04:00    2.769989       1  \n",
       "2022-09-14 15:30:00-04:00 -302.690002       0  \n",
       "\n",
       "[2993 rows x 6 columns]"
      ]
     },
     "execution_count": 109,
     "metadata": {},
     "output_type": "execute_result"
    }
   ],
   "source": [
    "tsla"
   ]
  },
  {
   "cell_type": "code",
   "execution_count": null,
   "metadata": {},
   "outputs": [],
   "source": []
  }
 ],
 "metadata": {
  "kernelspec": {
   "display_name": "Python 3.8.5 ('base')",
   "language": "python",
   "name": "python3"
  },
  "language_info": {
   "codemirror_mode": {
    "name": "ipython",
    "version": 3
   },
   "file_extension": ".py",
   "mimetype": "text/x-python",
   "name": "python",
   "nbconvert_exporter": "python",
   "pygments_lexer": "ipython3",
   "version": "3.8.5"
  },
  "orig_nbformat": 4,
  "vscode": {
   "interpreter": {
    "hash": "74adf99108d090a5d5a30d68baa9d82e7a2ef24b286559257e597dbc783a10b3"
   }
  }
 },
 "nbformat": 4,
 "nbformat_minor": 2
}
